{
 "cells": [
  {
   "cell_type": "markdown",
   "metadata": {},
   "source": [
    "# Шаг 1. Изучение данных"
   ]
  },
  {
   "cell_type": "markdown",
   "metadata": {},
   "source": [
    "Импортируем библиотеки, необходимые для работы над проектом:"
   ]
  },
  {
   "cell_type": "code",
   "execution_count": 1,
   "metadata": {},
   "outputs": [],
   "source": [
    "import matplotlib.pyplot as plt\n",
    "import pandas as pd\n",
    "import numpy as np\n",
    "from scipy import stats as st\n",
    "import seaborn as sns"
   ]
  },
  {
   "cell_type": "markdown",
   "metadata": {},
   "source": [
    "Вводим переменную для исходной анализируемой таблицы:"
   ]
  },
  {
   "cell_type": "code",
   "execution_count": 2,
   "metadata": {
    "scrolled": true
   },
   "outputs": [
    {
     "name": "stdout",
     "output_type": "stream",
     "text": [
      "<class 'pandas.core.frame.DataFrame'>\n",
      "RangeIndex: 16715 entries, 0 to 16714\n",
      "Data columns (total 11 columns):\n",
      " #   Column           Non-Null Count  Dtype  \n",
      "---  ------           --------------  -----  \n",
      " 0   Name             16713 non-null  object \n",
      " 1   Platform         16715 non-null  object \n",
      " 2   Year_of_Release  16446 non-null  float64\n",
      " 3   Genre            16713 non-null  object \n",
      " 4   NA_sales         16715 non-null  float64\n",
      " 5   EU_sales         16715 non-null  float64\n",
      " 6   JP_sales         16715 non-null  float64\n",
      " 7   Other_sales      16715 non-null  float64\n",
      " 8   Critic_Score     8137 non-null   float64\n",
      " 9   User_Score       10014 non-null  object \n",
      " 10  Rating           9949 non-null   object \n",
      "dtypes: float64(6), object(5)\n",
      "memory usage: 1.4+ MB\n"
     ]
    }
   ],
   "source": [
    "data = pd.read_csv('C:\\games.csv')\n",
    "data.info()"
   ]
  },
  {
   "cell_type": "markdown",
   "metadata": {},
   "source": [
    "Значительное число пропусков обнаружено в столбцах с оценками и рейтингом игр (от 6 до 8 тыс. строк),также около 300 строк находится в столбце с информацией о годе выпуска."
   ]
  },
  {
   "cell_type": "markdown",
   "metadata": {},
   "source": [
    "Исходные данные содержат следующие столбцы:\n",
    "\n",
    "- Name — название игры\n",
    "- Platform — платформа\n",
    "- Year_of_Release — год выпуска\n",
    "- Genre — жанр игры\n",
    "- NA_sales — продажи в Северной Америке (миллионы долларов)\n",
    "- EU_sales — продажи в Европе (миллионы долларов)\n",
    "- JP_sales — продажи в Японии (миллионы долларов)\n",
    "- Other_sales — продажи в других странах (миллионы долларов)\n",
    "- Critic_Score — оценка критиков (максимум 100)\n",
    "- User_Score — оценка пользователей (максимум 10)\n",
    "- Rating — рейтинг от организации ESRB (англ. Entertainment Software Rating Board). Эта ассоциация определяет рейтинг компьютерных игр и присваивает им подходящую возрастную категорию."
   ]
  },
  {
   "cell_type": "markdown",
   "metadata": {},
   "source": [
    "# Шаг 2. Предобработка данных"
   ]
  },
  {
   "cell_type": "markdown",
   "metadata": {},
   "source": [
    "Мы привели названия столбцов к нижнему регистру"
   ]
  },
  {
   "cell_type": "code",
   "execution_count": 3,
   "metadata": {},
   "outputs": [],
   "source": [
    "data.columns = data.columns.str.lower()"
   ]
  },
  {
   "cell_type": "markdown",
   "metadata": {},
   "source": [
    "#### Обработка пропусков"
   ]
  },
  {
   "cell_type": "markdown",
   "metadata": {},
   "source": [
    "Проанализируем столбцы на наличие пропусков"
   ]
  },
  {
   "cell_type": "code",
   "execution_count": 4,
   "metadata": {},
   "outputs": [
    {
     "data": {
      "text/plain": [
       "name               0.000120\n",
       "platform           0.000000\n",
       "year_of_release    0.016093\n",
       "genre              0.000120\n",
       "na_sales           0.000000\n",
       "eu_sales           0.000000\n",
       "jp_sales           0.000000\n",
       "other_sales        0.000000\n",
       "critic_score       0.513192\n",
       "user_score         0.400897\n",
       "rating             0.404786\n",
       "dtype: float64"
      ]
     },
     "execution_count": 4,
     "metadata": {},
     "output_type": "execute_result"
    }
   ],
   "source": [
    "data.isnull().mean()"
   ]
  },
  {
   "cell_type": "code",
   "execution_count": 5,
   "metadata": {},
   "outputs": [
    {
     "ename": "TypeError",
     "evalue": "'Series' objects are mutable, thus they cannot be hashed",
     "output_type": "error",
     "traceback": [
      "\u001b[1;31m---------------------------------------------------------------------------\u001b[0m",
      "\u001b[1;31mTypeError\u001b[0m                                 Traceback (most recent call last)",
      "\u001b[1;32m<ipython-input-5-852b409c6c6e>\u001b[0m in \u001b[0;36m<module>\u001b[1;34m\u001b[0m\n\u001b[1;32m----> 1\u001b[1;33m \u001b[0mdata\u001b[0m\u001b[1;33m.\u001b[0m\u001b[0mquery\u001b[0m\u001b[1;33m(\u001b[0m\u001b[1;34m'critic_score.isnull()'\u001b[0m\u001b[1;33m)\u001b[0m\u001b[1;33m.\u001b[0m\u001b[0mdescribe\u001b[0m\u001b[1;33m(\u001b[0m\u001b[1;33m)\u001b[0m\u001b[1;33m\u001b[0m\u001b[1;33m\u001b[0m\u001b[0m\n\u001b[0m\u001b[0;32m      2\u001b[0m \u001b[0mdata\u001b[0m\u001b[1;33m.\u001b[0m\u001b[0mquery\u001b[0m\u001b[1;33m(\u001b[0m\u001b[1;34m'critic_score.isnull()'\u001b[0m\u001b[1;33m)\u001b[0m\u001b[1;33m.\u001b[0m\u001b[0mgroupby\u001b[0m\u001b[1;33m(\u001b[0m\u001b[1;34m'platform'\u001b[0m\u001b[1;33m)\u001b[0m\u001b[1;33m[\u001b[0m\u001b[1;34m'name'\u001b[0m\u001b[1;33m]\u001b[0m\u001b[1;33m.\u001b[0m\u001b[0mcount\u001b[0m\u001b[1;33m(\u001b[0m\u001b[1;33m)\u001b[0m\u001b[1;33m.\u001b[0m\u001b[0msort_values\u001b[0m\u001b[1;33m(\u001b[0m\u001b[0mascending\u001b[0m\u001b[1;33m=\u001b[0m\u001b[1;32mFalse\u001b[0m\u001b[1;33m)\u001b[0m\u001b[1;33m.\u001b[0m\u001b[0mhead\u001b[0m\u001b[1;33m(\u001b[0m\u001b[1;36m10\u001b[0m\u001b[1;33m)\u001b[0m\u001b[1;33m\u001b[0m\u001b[1;33m\u001b[0m\u001b[0m\n",
      "\u001b[1;32m~\\anaconda3\\lib\\site-packages\\pandas\\core\\frame.py\u001b[0m in \u001b[0;36mquery\u001b[1;34m(self, expr, inplace, **kwargs)\u001b[0m\n\u001b[0;32m   3229\u001b[0m         \u001b[0mkwargs\u001b[0m\u001b[1;33m[\u001b[0m\u001b[1;34m\"level\"\u001b[0m\u001b[1;33m]\u001b[0m \u001b[1;33m=\u001b[0m \u001b[0mkwargs\u001b[0m\u001b[1;33m.\u001b[0m\u001b[0mpop\u001b[0m\u001b[1;33m(\u001b[0m\u001b[1;34m\"level\"\u001b[0m\u001b[1;33m,\u001b[0m \u001b[1;36m0\u001b[0m\u001b[1;33m)\u001b[0m \u001b[1;33m+\u001b[0m \u001b[1;36m1\u001b[0m\u001b[1;33m\u001b[0m\u001b[1;33m\u001b[0m\u001b[0m\n\u001b[0;32m   3230\u001b[0m         \u001b[0mkwargs\u001b[0m\u001b[1;33m[\u001b[0m\u001b[1;34m\"target\"\u001b[0m\u001b[1;33m]\u001b[0m \u001b[1;33m=\u001b[0m \u001b[1;32mNone\u001b[0m\u001b[1;33m\u001b[0m\u001b[1;33m\u001b[0m\u001b[0m\n\u001b[1;32m-> 3231\u001b[1;33m         \u001b[0mres\u001b[0m \u001b[1;33m=\u001b[0m \u001b[0mself\u001b[0m\u001b[1;33m.\u001b[0m\u001b[0meval\u001b[0m\u001b[1;33m(\u001b[0m\u001b[0mexpr\u001b[0m\u001b[1;33m,\u001b[0m \u001b[1;33m**\u001b[0m\u001b[0mkwargs\u001b[0m\u001b[1;33m)\u001b[0m\u001b[1;33m\u001b[0m\u001b[1;33m\u001b[0m\u001b[0m\n\u001b[0m\u001b[0;32m   3232\u001b[0m \u001b[1;33m\u001b[0m\u001b[0m\n\u001b[0;32m   3233\u001b[0m         \u001b[1;32mtry\u001b[0m\u001b[1;33m:\u001b[0m\u001b[1;33m\u001b[0m\u001b[1;33m\u001b[0m\u001b[0m\n",
      "\u001b[1;32m~\\anaconda3\\lib\\site-packages\\pandas\\core\\frame.py\u001b[0m in \u001b[0;36meval\u001b[1;34m(self, expr, inplace, **kwargs)\u001b[0m\n\u001b[0;32m   3344\u001b[0m         \u001b[0mkwargs\u001b[0m\u001b[1;33m[\u001b[0m\u001b[1;34m\"resolvers\"\u001b[0m\u001b[1;33m]\u001b[0m \u001b[1;33m=\u001b[0m \u001b[0mkwargs\u001b[0m\u001b[1;33m.\u001b[0m\u001b[0mget\u001b[0m\u001b[1;33m(\u001b[0m\u001b[1;34m\"resolvers\"\u001b[0m\u001b[1;33m,\u001b[0m \u001b[1;33m(\u001b[0m\u001b[1;33m)\u001b[0m\u001b[1;33m)\u001b[0m \u001b[1;33m+\u001b[0m \u001b[0mtuple\u001b[0m\u001b[1;33m(\u001b[0m\u001b[0mresolvers\u001b[0m\u001b[1;33m)\u001b[0m\u001b[1;33m\u001b[0m\u001b[1;33m\u001b[0m\u001b[0m\n\u001b[0;32m   3345\u001b[0m \u001b[1;33m\u001b[0m\u001b[0m\n\u001b[1;32m-> 3346\u001b[1;33m         \u001b[1;32mreturn\u001b[0m \u001b[0m_eval\u001b[0m\u001b[1;33m(\u001b[0m\u001b[0mexpr\u001b[0m\u001b[1;33m,\u001b[0m \u001b[0minplace\u001b[0m\u001b[1;33m=\u001b[0m\u001b[0minplace\u001b[0m\u001b[1;33m,\u001b[0m \u001b[1;33m**\u001b[0m\u001b[0mkwargs\u001b[0m\u001b[1;33m)\u001b[0m\u001b[1;33m\u001b[0m\u001b[1;33m\u001b[0m\u001b[0m\n\u001b[0m\u001b[0;32m   3347\u001b[0m \u001b[1;33m\u001b[0m\u001b[0m\n\u001b[0;32m   3348\u001b[0m     \u001b[1;32mdef\u001b[0m \u001b[0mselect_dtypes\u001b[0m\u001b[1;33m(\u001b[0m\u001b[0mself\u001b[0m\u001b[1;33m,\u001b[0m \u001b[0minclude\u001b[0m\u001b[1;33m=\u001b[0m\u001b[1;32mNone\u001b[0m\u001b[1;33m,\u001b[0m \u001b[0mexclude\u001b[0m\u001b[1;33m=\u001b[0m\u001b[1;32mNone\u001b[0m\u001b[1;33m)\u001b[0m \u001b[1;33m->\u001b[0m \u001b[1;34m\"DataFrame\"\u001b[0m\u001b[1;33m:\u001b[0m\u001b[1;33m\u001b[0m\u001b[1;33m\u001b[0m\u001b[0m\n",
      "\u001b[1;32m~\\anaconda3\\lib\\site-packages\\pandas\\core\\computation\\eval.py\u001b[0m in \u001b[0;36meval\u001b[1;34m(expr, parser, engine, truediv, local_dict, global_dict, resolvers, level, target, inplace)\u001b[0m\n\u001b[0;32m    335\u001b[0m         \u001b[0meng\u001b[0m \u001b[1;33m=\u001b[0m \u001b[0m_engines\u001b[0m\u001b[1;33m[\u001b[0m\u001b[0mengine\u001b[0m\u001b[1;33m]\u001b[0m\u001b[1;33m\u001b[0m\u001b[1;33m\u001b[0m\u001b[0m\n\u001b[0;32m    336\u001b[0m         \u001b[0meng_inst\u001b[0m \u001b[1;33m=\u001b[0m \u001b[0meng\u001b[0m\u001b[1;33m(\u001b[0m\u001b[0mparsed_expr\u001b[0m\u001b[1;33m)\u001b[0m\u001b[1;33m\u001b[0m\u001b[1;33m\u001b[0m\u001b[0m\n\u001b[1;32m--> 337\u001b[1;33m         \u001b[0mret\u001b[0m \u001b[1;33m=\u001b[0m \u001b[0meng_inst\u001b[0m\u001b[1;33m.\u001b[0m\u001b[0mevaluate\u001b[0m\u001b[1;33m(\u001b[0m\u001b[1;33m)\u001b[0m\u001b[1;33m\u001b[0m\u001b[1;33m\u001b[0m\u001b[0m\n\u001b[0m\u001b[0;32m    338\u001b[0m \u001b[1;33m\u001b[0m\u001b[0m\n\u001b[0;32m    339\u001b[0m         \u001b[1;32mif\u001b[0m \u001b[0mparsed_expr\u001b[0m\u001b[1;33m.\u001b[0m\u001b[0massigner\u001b[0m \u001b[1;32mis\u001b[0m \u001b[1;32mNone\u001b[0m\u001b[1;33m:\u001b[0m\u001b[1;33m\u001b[0m\u001b[1;33m\u001b[0m\u001b[0m\n",
      "\u001b[1;32m~\\anaconda3\\lib\\site-packages\\pandas\\core\\computation\\engines.py\u001b[0m in \u001b[0;36mevaluate\u001b[1;34m(self)\u001b[0m\n\u001b[0;32m     71\u001b[0m \u001b[1;33m\u001b[0m\u001b[0m\n\u001b[0;32m     72\u001b[0m         \u001b[1;31m# make sure no names in resolvers and locals/globals clash\u001b[0m\u001b[1;33m\u001b[0m\u001b[1;33m\u001b[0m\u001b[1;33m\u001b[0m\u001b[0m\n\u001b[1;32m---> 73\u001b[1;33m         \u001b[0mres\u001b[0m \u001b[1;33m=\u001b[0m \u001b[0mself\u001b[0m\u001b[1;33m.\u001b[0m\u001b[0m_evaluate\u001b[0m\u001b[1;33m(\u001b[0m\u001b[1;33m)\u001b[0m\u001b[1;33m\u001b[0m\u001b[1;33m\u001b[0m\u001b[0m\n\u001b[0m\u001b[0;32m     74\u001b[0m         return reconstruct_object(\n\u001b[0;32m     75\u001b[0m             \u001b[0mself\u001b[0m\u001b[1;33m.\u001b[0m\u001b[0mresult_type\u001b[0m\u001b[1;33m,\u001b[0m \u001b[0mres\u001b[0m\u001b[1;33m,\u001b[0m \u001b[0mself\u001b[0m\u001b[1;33m.\u001b[0m\u001b[0maligned_axes\u001b[0m\u001b[1;33m,\u001b[0m \u001b[0mself\u001b[0m\u001b[1;33m.\u001b[0m\u001b[0mexpr\u001b[0m\u001b[1;33m.\u001b[0m\u001b[0mterms\u001b[0m\u001b[1;33m.\u001b[0m\u001b[0mreturn_type\u001b[0m\u001b[1;33m\u001b[0m\u001b[1;33m\u001b[0m\u001b[0m\n",
      "\u001b[1;32m~\\anaconda3\\lib\\site-packages\\pandas\\core\\computation\\engines.py\u001b[0m in \u001b[0;36m_evaluate\u001b[1;34m(self)\u001b[0m\n\u001b[0;32m    111\u001b[0m         \u001b[0menv\u001b[0m \u001b[1;33m=\u001b[0m \u001b[0mself\u001b[0m\u001b[1;33m.\u001b[0m\u001b[0mexpr\u001b[0m\u001b[1;33m.\u001b[0m\u001b[0menv\u001b[0m\u001b[1;33m\u001b[0m\u001b[1;33m\u001b[0m\u001b[0m\n\u001b[0;32m    112\u001b[0m         \u001b[0mscope\u001b[0m \u001b[1;33m=\u001b[0m \u001b[0menv\u001b[0m\u001b[1;33m.\u001b[0m\u001b[0mfull_scope\u001b[0m\u001b[1;33m\u001b[0m\u001b[1;33m\u001b[0m\u001b[0m\n\u001b[1;32m--> 113\u001b[1;33m         \u001b[0m_check_ne_builtin_clash\u001b[0m\u001b[1;33m(\u001b[0m\u001b[0mself\u001b[0m\u001b[1;33m.\u001b[0m\u001b[0mexpr\u001b[0m\u001b[1;33m)\u001b[0m\u001b[1;33m\u001b[0m\u001b[1;33m\u001b[0m\u001b[0m\n\u001b[0m\u001b[0;32m    114\u001b[0m         \u001b[1;32mreturn\u001b[0m \u001b[0mne\u001b[0m\u001b[1;33m.\u001b[0m\u001b[0mevaluate\u001b[0m\u001b[1;33m(\u001b[0m\u001b[0ms\u001b[0m\u001b[1;33m,\u001b[0m \u001b[0mlocal_dict\u001b[0m\u001b[1;33m=\u001b[0m\u001b[0mscope\u001b[0m\u001b[1;33m)\u001b[0m\u001b[1;33m\u001b[0m\u001b[1;33m\u001b[0m\u001b[0m\n\u001b[0;32m    115\u001b[0m \u001b[1;33m\u001b[0m\u001b[0m\n",
      "\u001b[1;32m~\\anaconda3\\lib\\site-packages\\pandas\\core\\computation\\engines.py\u001b[0m in \u001b[0;36m_check_ne_builtin_clash\u001b[1;34m(expr)\u001b[0m\n\u001b[0;32m     27\u001b[0m         \u001b[0mTerms\u001b[0m \u001b[0mcan\u001b[0m \u001b[0mcontain\u001b[0m\u001b[1;33m\u001b[0m\u001b[1;33m\u001b[0m\u001b[0m\n\u001b[0;32m     28\u001b[0m     \"\"\"\n\u001b[1;32m---> 29\u001b[1;33m     \u001b[0mnames\u001b[0m \u001b[1;33m=\u001b[0m \u001b[0mexpr\u001b[0m\u001b[1;33m.\u001b[0m\u001b[0mnames\u001b[0m\u001b[1;33m\u001b[0m\u001b[1;33m\u001b[0m\u001b[0m\n\u001b[0m\u001b[0;32m     30\u001b[0m     \u001b[0moverlap\u001b[0m \u001b[1;33m=\u001b[0m \u001b[0mnames\u001b[0m \u001b[1;33m&\u001b[0m \u001b[0m_ne_builtins\u001b[0m\u001b[1;33m\u001b[0m\u001b[1;33m\u001b[0m\u001b[0m\n\u001b[0;32m     31\u001b[0m \u001b[1;33m\u001b[0m\u001b[0m\n",
      "\u001b[1;32m~\\anaconda3\\lib\\site-packages\\pandas\\core\\computation\\expr.py\u001b[0m in \u001b[0;36mnames\u001b[1;34m(self)\u001b[0m\n\u001b[0;32m    785\u001b[0m         \u001b[1;34m\"\"\"Get the names in an expression\"\"\"\u001b[0m\u001b[1;33m\u001b[0m\u001b[1;33m\u001b[0m\u001b[0m\n\u001b[0;32m    786\u001b[0m         \u001b[1;32mif\u001b[0m \u001b[0mis_term\u001b[0m\u001b[1;33m(\u001b[0m\u001b[0mself\u001b[0m\u001b[1;33m.\u001b[0m\u001b[0mterms\u001b[0m\u001b[1;33m)\u001b[0m\u001b[1;33m:\u001b[0m\u001b[1;33m\u001b[0m\u001b[1;33m\u001b[0m\u001b[0m\n\u001b[1;32m--> 787\u001b[1;33m             \u001b[1;32mreturn\u001b[0m \u001b[0mfrozenset\u001b[0m\u001b[1;33m(\u001b[0m\u001b[1;33m[\u001b[0m\u001b[0mself\u001b[0m\u001b[1;33m.\u001b[0m\u001b[0mterms\u001b[0m\u001b[1;33m.\u001b[0m\u001b[0mname\u001b[0m\u001b[1;33m]\u001b[0m\u001b[1;33m)\u001b[0m\u001b[1;33m\u001b[0m\u001b[1;33m\u001b[0m\u001b[0m\n\u001b[0m\u001b[0;32m    788\u001b[0m         \u001b[1;32mreturn\u001b[0m \u001b[0mfrozenset\u001b[0m\u001b[1;33m(\u001b[0m\u001b[0mterm\u001b[0m\u001b[1;33m.\u001b[0m\u001b[0mname\u001b[0m \u001b[1;32mfor\u001b[0m \u001b[0mterm\u001b[0m \u001b[1;32min\u001b[0m \u001b[0mcom\u001b[0m\u001b[1;33m.\u001b[0m\u001b[0mflatten\u001b[0m\u001b[1;33m(\u001b[0m\u001b[0mself\u001b[0m\u001b[1;33m.\u001b[0m\u001b[0mterms\u001b[0m\u001b[1;33m)\u001b[0m\u001b[1;33m)\u001b[0m\u001b[1;33m\u001b[0m\u001b[1;33m\u001b[0m\u001b[0m\n\u001b[0;32m    789\u001b[0m \u001b[1;33m\u001b[0m\u001b[0m\n",
      "\u001b[1;32m~\\anaconda3\\lib\\site-packages\\pandas\\core\\generic.py\u001b[0m in \u001b[0;36m__hash__\u001b[1;34m(self)\u001b[0m\n\u001b[0;32m   1797\u001b[0m     \u001b[1;32mdef\u001b[0m \u001b[0m__hash__\u001b[0m\u001b[1;33m(\u001b[0m\u001b[0mself\u001b[0m\u001b[1;33m)\u001b[0m\u001b[1;33m:\u001b[0m\u001b[1;33m\u001b[0m\u001b[1;33m\u001b[0m\u001b[0m\n\u001b[0;32m   1798\u001b[0m         raise TypeError(\n\u001b[1;32m-> 1799\u001b[1;33m             \u001b[1;34mf\"{repr(type(self).__name__)} objects are mutable, \"\u001b[0m\u001b[1;33m\u001b[0m\u001b[1;33m\u001b[0m\u001b[0m\n\u001b[0m\u001b[0;32m   1800\u001b[0m             \u001b[1;34mf\"thus they cannot be hashed\"\u001b[0m\u001b[1;33m\u001b[0m\u001b[1;33m\u001b[0m\u001b[0m\n\u001b[0;32m   1801\u001b[0m         )\n",
      "\u001b[1;31mTypeError\u001b[0m: 'Series' objects are mutable, thus they cannot be hashed"
     ]
    }
   ],
   "source": [
    "data.query('critic_score.isnull()').describe()\n",
    "data.query('critic_score.isnull()').groupby('platform')['name'].count().sort_values(ascending=False).head(10)"
   ]
  },
  {
   "cell_type": "code",
   "execution_count": null,
   "metadata": {},
   "outputs": [],
   "source": [
    "data.query('user_score.isnull()').describe()\n",
    "data.query('user_score.isnull()').groupby('platform')['name'].count().sort_values(ascending=False).head(10)"
   ]
  },
  {
   "cell_type": "code",
   "execution_count": null,
   "metadata": {},
   "outputs": [],
   "source": [
    "data.query('rating.isnull()').describe()\n",
    "data.query('rating.isnull()').groupby('platform')['name'].count().sort_values(ascending=False).head(10)"
   ]
  },
  {
   "cell_type": "markdown",
   "metadata": {},
   "source": [
    "Судя по всему пропуски в столбцах с информацией об оценках и рейтингах главным образом встречаются для старых игр, которым более 5-10 лет. Соответственно при взгляде на данные в разрезе платформ наибольшее количество пропусков относится к наиболее старшим поколениям"
   ]
  },
  {
   "cell_type": "code",
   "execution_count": null,
   "metadata": {},
   "outputs": [],
   "source": [
    "data['year_of_release'].fillna(data.groupby('name')['year_of_release'].transform('median').round(), inplace = True)\n",
    "data['year_of_release'].isnull().sum()"
   ]
  },
  {
   "cell_type": "markdown",
   "metadata": {},
   "source": [
    "Оставшиеся строки не содержащие данные о годе выпуска мы удаляем"
   ]
  },
  {
   "cell_type": "code",
   "execution_count": null,
   "metadata": {},
   "outputs": [],
   "source": [
    "data = data.loc[data['year_of_release'] != 0]"
   ]
  },
  {
   "cell_type": "markdown",
   "metadata": {},
   "source": [
    "Аббервиатура \"tbd\" означает неопределенный статус, по причине недостаточности объема данных для выставления рейтинга. \n",
    "Заполнение пропусков и подобных значений не целесообразно и может существенно исказить выводы., поэтому нра текущий момент никаких изменений внесено не будет"
   ]
  },
  {
   "cell_type": "code",
   "execution_count": null,
   "metadata": {},
   "outputs": [],
   "source": [
    "data['user_score'] = data['user_score'].replace('tbd', np.nan)"
   ]
  },
  {
   "cell_type": "markdown",
   "metadata": {},
   "source": [
    "2 строки с пропуском имени и данных об оценке мы удалим "
   ]
  },
  {
   "cell_type": "code",
   "execution_count": null,
   "metadata": {},
   "outputs": [],
   "source": [
    "data.dropna(subset=['name'], inplace=True)"
   ]
  },
  {
   "cell_type": "code",
   "execution_count": null,
   "metadata": {
    "scrolled": true
   },
   "outputs": [],
   "source": [
    "data.isnull().mean()"
   ]
  },
  {
   "cell_type": "markdown",
   "metadata": {},
   "source": [
    "Мы рассчитали суммарные продажи во всех регионах"
   ]
  },
  {
   "cell_type": "markdown",
   "metadata": {},
   "source": [
    "В столбце рейтинг мы привели систему оценок к актуальной шкале"
   ]
  },
  {
   "cell_type": "code",
   "execution_count": null,
   "metadata": {},
   "outputs": [],
   "source": [
    "data['rating'].unique()"
   ]
  },
  {
   "cell_type": "code",
   "execution_count": null,
   "metadata": {},
   "outputs": [],
   "source": [
    "data['rating'] = data['rating'].replace('K-A', 'E')"
   ]
  },
  {
   "cell_type": "code",
   "execution_count": null,
   "metadata": {},
   "outputs": [],
   "source": [
    "data['user_score'] = data['user_score'].astype('float32')"
   ]
  },
  {
   "cell_type": "code",
   "execution_count": null,
   "metadata": {},
   "outputs": [],
   "source": [
    "data.describe()"
   ]
  },
  {
   "cell_type": "markdown",
   "metadata": {},
   "source": [
    "Мы проанализировали данные на наличие необычных значений. Все столбцы в которых содержится числовая инфомрация соответствуют ожиданиям и пониманию"
   ]
  },
  {
   "cell_type": "markdown",
   "metadata": {},
   "source": [
    "Совокупные данные о прадажах игр посчитаны в столбец total sales"
   ]
  },
  {
   "cell_type": "code",
   "execution_count": null,
   "metadata": {},
   "outputs": [],
   "source": [
    "data['total_sales']= data['na_sales'] + data['eu_sales'] + data['jp_sales'] + data['other_sales']"
   ]
  },
  {
   "cell_type": "code",
   "execution_count": null,
   "metadata": {},
   "outputs": [],
   "source": [
    "data.info()"
   ]
  },
  {
   "cell_type": "markdown",
   "metadata": {},
   "source": [
    "##### В ходе предобработки были осуществлены следующие преобразования:\n",
    "1. Названия колонок приведены к нижнему регистру\n",
    "2. Более подробно изучены значения в каждом столбце на предмет наличия ошибочных значений.\n",
    "3. Заполнена часть пустых значений в годах релиза в зависимости от года релиза на других платформах. Оставшаяся часть удалена.\n",
    "4. Значения \"tbd\" в user_score объяснены и заменены на NaN.\n",
    "5. Посчитаны суммарные продажи во всех регионах и сохранены в столбце sales_sum\n"
   ]
  },
  {
   "cell_type": "markdown",
   "metadata": {},
   "source": [
    "# Шаг 3. Анализ данных"
   ]
  },
  {
   "cell_type": "markdown",
   "metadata": {},
   "source": [
    "Для того, чтобы проанализировать какое количество игр выходило в разные годы построим график"
   ]
  },
  {
   "cell_type": "code",
   "execution_count": null,
   "metadata": {
    "scrolled": false
   },
   "outputs": [],
   "source": [
    "data.groupby('year_of_release')['name'].count().plot(figsize = (15, 4), grid = True, style = '-o')\n",
    "plt.xlabel('Год')\n",
    "plt.ylabel('Количество игр')\n",
    "plt.title ('Количество выпущенных игр в разные годы')"
   ]
  },
  {
   "cell_type": "markdown",
   "metadata": {},
   "source": [
    "Судя по графику на рост количества игр в начале 2000х могло повлиять технологическое развитие отрасли, спад в конце 2000х вероятнее всего обусловлен мировым финансовым кризисом 2008 года, в связи с которым финансирование новых проектов было сокращено."
   ]
  },
  {
   "cell_type": "markdown",
   "metadata": {},
   "source": [
    "Мы рассчитали сколько в среднем приносила каждая игра за год своего существования на рынке и показали совокупные показатели в разрезе платформ, жанров"
   ]
  },
  {
   "cell_type": "code",
   "execution_count": null,
   "metadata": {},
   "outputs": [],
   "source": [
    "data['existing_period'] = 2017 - data['year_of_release']\n",
    "data['revenue_per_year'] = data['total_sales'] / data['existing_period']"
   ]
  },
  {
   "cell_type": "code",
   "execution_count": null,
   "metadata": {},
   "outputs": [],
   "source": [
    "data.pivot_table(index=['platform'], values='revenue_per_year', aggfunc='sum').sort_values(by='revenue_per_year', ascending=False).head(10)"
   ]
  },
  {
   "cell_type": "code",
   "execution_count": null,
   "metadata": {},
   "outputs": [],
   "source": [
    "data.pivot_table(index=['genre'], values='revenue_per_year', aggfunc='sum').sort_values(by='revenue_per_year', ascending=False).head(10)"
   ]
  },
  {
   "cell_type": "markdown",
   "metadata": {},
   "source": [
    "Как мы могли заметить, в рассматриваемом датасете наиболее прибыльными являются приставки производства компании Sony. Как мы видим на текущий момент наиболее финансово успешной консолью является PS4, ее идеологический конкурент XOne находится на 7 месте, и отстает более чем в 2 раза по уровню ежегодной выручки. Консоли предыдущего поколения занимают 2 и 3 места. PC является наименее прибыльной платформой на равне с первой выпущенной PS.\n",
    "\n",
    "Данный анализ помогает понять историческую предрасположенность пользователей, где голос в пользу платформу или жанра был выражен не просто в качестве мнения, а был запечатлен монетой."
   ]
  },
  {
   "cell_type": "markdown",
   "metadata": {},
   "source": [
    "###  Анализ и определение наиболее актуальных платформ/периода для анализа"
   ]
  },
  {
   "cell_type": "markdown",
   "metadata": {},
   "source": [
    "Мы визуализировали продажи по всем платформам по имеющемуся датасету"
   ]
  },
  {
   "cell_type": "code",
   "execution_count": null,
   "metadata": {
    "scrolled": true
   },
   "outputs": [],
   "source": [
    "all_platforms = ( data.pivot_table(index = 'year_of_release', columns = 'platform', \n",
    "                             values = 'total_sales', aggfunc = 'sum', fill_value = 0) )"
   ]
  },
  {
   "cell_type": "code",
   "execution_count": null,
   "metadata": {},
   "outputs": [],
   "source": [
    "fig, ax = plt.subplots(figsize=(12, 8))\n",
    "sns.heatmap(all_platforms, linewidths=.1, ax=ax, cbar_kws= {'orientation': 'horizontal'}, vmax = 100)"
   ]
  },
  {
   "cell_type": "markdown",
   "metadata": {},
   "source": [
    "Очевидно, что у каждой платформы есть свой жизненный цикл и уровень популярности за этот период. \n",
    "- Так к примеру PS - 6 лет, PS2 - 8 лет, PS3 - 7 лет. При этом переходный период пользователей на следующее поколение составляет в среднем 1-2 года и спрос на игры предыдущего поколения начинает стремительно падать, так скажем настает период распродажи остатков. \n",
    "\n",
    "- Наиболее успешной для Microsoft удалась X360, которая показала сопоставимые продажи с главными конкурентами и сохраняла их около 8 лет, XOne не удалось повторить успех своего предшественника.\n",
    "\n",
    "- В аналогичный период успеха добилась компания Nintendo со своими DS и Wii однако их период активных продаж составил всего около 4-5 лет. Причем новое поколение именно портативной версии консоли, которая стала гибридом двух предыдущих стало пользоваться успехом. С учетом анонса выхода нового поколения на 2017 год, стоит проанализировать текущих представителей."
   ]
  },
  {
   "cell_type": "markdown",
   "metadata": {},
   "source": [
    "### Определение границ датасета для дальнейшего использования в анализе"
   ]
  },
  {
   "cell_type": "markdown",
   "metadata": {},
   "source": [
    "В ходе анализа популярности платформ было определено, что популярностью пользуются главным образом игры, выпускаемые на консоли таких производителей как Sony, Microsoft и Nintendo. Мы определили жизненный цикл, сменяемость и относительную распространенность/популярность консолей. "
   ]
  },
  {
   "cell_type": "markdown",
   "metadata": {},
   "source": [
    "Наиболее актуальными являются PS4, XOne и 3DS. Однако для полноты картины необходимо учесть также информацию о предыдущем поколении, а именно PS3, X360 и DS/Wii.\n",
    "\n",
    "Соответственно срез датасета мы будем осуществлять именно по таким параметрам без привязки ко времени выхода игр, т.к. для понимания предпочтений эти параметры будут первостепенными."
   ]
  },
  {
   "cell_type": "markdown",
   "metadata": {},
   "source": [
    "Геймплейные особенности, позиционирование консолей и фансообщество сформировало отличительные черты и преимущества консолей."
   ]
  },
  {
   "cell_type": "code",
   "execution_count": null,
   "metadata": {},
   "outputs": [],
   "source": [
    "top_platforms_list = ['Wii', 'DS', 'X360', 'PS3','PS4', '3DS', 'XOne']"
   ]
  },
  {
   "cell_type": "code",
   "execution_count": null,
   "metadata": {},
   "outputs": [],
   "source": [
    "top_platforms = data.query('@top_platforms_list in platform')"
   ]
  },
  {
   "cell_type": "code",
   "execution_count": null,
   "metadata": {},
   "outputs": [],
   "source": [
    "top_platforms_pivot = ( top_platforms.pivot_table(index = 'year_of_release', columns = 'platform', \n",
    "                             values = 'total_sales', aggfunc = 'sum', fill_value = 0) )"
   ]
  },
  {
   "cell_type": "code",
   "execution_count": null,
   "metadata": {
    "scrolled": true
   },
   "outputs": [],
   "source": [
    "fig, ax = plt.subplots(figsize=(12, 8))\n",
    "sns.heatmap(top_platforms_pivot, linewidths=.1, ax=ax, cbar_kws= {'orientation': 'horizontal'}, vmax = 100)"
   ]
  },
  {
   "cell_type": "markdown",
   "metadata": {},
   "source": [
    "Актуальным периодом для планирования рекламы на 2017 год: 2005 год - настоящее время. Данный интервал позволит наиболее точно определить портрет пользователя каждой консоли и их жанровые предпочтения."
   ]
  },
  {
   "cell_type": "code",
   "execution_count": null,
   "metadata": {},
   "outputs": [],
   "source": [
    "df = top_platforms.query('year_of_release >= 2005')"
   ]
  },
  {
   "cell_type": "markdown",
   "metadata": {},
   "source": [
    "#### Анализ взаимосвязи продаж и оценок игр в СМИ"
   ]
  },
  {
   "cell_type": "markdown",
   "metadata": {},
   "source": [
    "### PS4"
   ]
  },
  {
   "cell_type": "code",
   "execution_count": null,
   "metadata": {
    "scrolled": true
   },
   "outputs": [],
   "source": [
    "df.query('platform == \"PS4\"').plot(kind = 'scatter',\n",
    "        x = 'user_score',\n",
    "        y = 'total_sales',\n",
    "        alpha = 0.5,\n",
    "        figsize = (8, 4))\n",
    "plt.title('Взаимосвязь пользовательского рейтинга и продаж на PS4')\n",
    "\n",
    "plt.show\n",
    "\n",
    "df.query('platform == \"PS4\"').plot(kind = 'scatter',\n",
    "        x = 'critic_score',\n",
    "        y = 'total_sales',\n",
    "        alpha = 0.5,\n",
    "        figsize = (8, 4))\n",
    "plt.title('Взаимосвязь рейтинга критиков и продаж на PS4')"
   ]
  },
  {
   "cell_type": "markdown",
   "metadata": {},
   "source": [
    "### PS3"
   ]
  },
  {
   "cell_type": "code",
   "execution_count": null,
   "metadata": {},
   "outputs": [],
   "source": [
    "df.query('platform == \"PS3\"').plot(kind = 'scatter',\n",
    "        x = 'user_score',\n",
    "        y = 'total_sales',\n",
    "        alpha = 0.5,\n",
    "        figsize = (8, 4))\n",
    "plt.title('Взаимосвязь пользовательского рейтинга и продаж на PS3')\n",
    "\n",
    "plt.show\n",
    "\n",
    "df.query('platform == \"PS3\"').plot(kind = 'scatter',\n",
    "        x = 'critic_score',\n",
    "        y = 'total_sales',\n",
    "        alpha = 0.5,\n",
    "        figsize = (8, 4))\n",
    "plt.title('Взаимосвязь рейтинга критиков и продаж на PS3')"
   ]
  },
  {
   "cell_type": "markdown",
   "metadata": {},
   "source": [
    "### XOne"
   ]
  },
  {
   "cell_type": "code",
   "execution_count": null,
   "metadata": {},
   "outputs": [],
   "source": [
    "df.query('platform == \"XOne\"').plot(kind = 'scatter',\n",
    "        x = 'user_score',\n",
    "        y = 'total_sales',\n",
    "        alpha = 0.5,\n",
    "        figsize = (8, 4))\n",
    "plt.title('Взаимосвязь пользовательского рейтинга и продаж на XOne')\n",
    "\n",
    "plt.show\n",
    "\n",
    "df.query('platform == \"XOne\"').plot(kind = 'scatter',\n",
    "        x = 'critic_score',\n",
    "        y = 'total_sales',\n",
    "        alpha = 0.5,\n",
    "        figsize = (8, 4))\n",
    "plt.title('Взаимосвязь рейтинга критиков и продаж на XOne')"
   ]
  },
  {
   "cell_type": "code",
   "execution_count": null,
   "metadata": {},
   "outputs": [],
   "source": []
  },
  {
   "cell_type": "markdown",
   "metadata": {},
   "source": [
    "### X360"
   ]
  },
  {
   "cell_type": "code",
   "execution_count": null,
   "metadata": {},
   "outputs": [],
   "source": [
    "df.query('platform == \"X360\"').plot(kind = 'scatter',\n",
    "        x = 'user_score',\n",
    "        y = 'total_sales',\n",
    "        alpha = 0.5,\n",
    "        figsize = (8, 4))\n",
    "plt.title('Взаимосвязь пользовательского рейтинга и продаж на X360')\n",
    "\n",
    "plt.show\n",
    "\n",
    "df.query('platform == \"X360\"').plot(kind = 'scatter',\n",
    "        x = 'critic_score',\n",
    "        y = 'total_sales',\n",
    "        alpha = 0.5,\n",
    "        figsize = (8, 4))\n",
    "plt.title('Взаимосвязь рейтинга критиков и продаж на X360')"
   ]
  },
  {
   "cell_type": "markdown",
   "metadata": {},
   "source": [
    "### Wii"
   ]
  },
  {
   "cell_type": "code",
   "execution_count": null,
   "metadata": {},
   "outputs": [],
   "source": [
    "df.query('platform == \"Wii\"').plot(kind = 'scatter',\n",
    "        x = 'user_score',\n",
    "        y = 'total_sales',\n",
    "        alpha = 0.5,\n",
    "        figsize = (8, 4))\n",
    "plt.title('Взаимосвязь пользовательского рейтинга и продаж на Wii')\n",
    "\n",
    "plt.show\n",
    "\n",
    "df.query('platform == \"Wii\"').plot(kind = 'scatter',\n",
    "        x = 'critic_score',\n",
    "        y = 'total_sales',\n",
    "        alpha = 0.5,\n",
    "        figsize = (8, 4))\n",
    "plt.title('Взаимосвязь рейтинга критиков и продаж на Wii')"
   ]
  },
  {
   "cell_type": "markdown",
   "metadata": {},
   "source": [
    "### DS"
   ]
  },
  {
   "cell_type": "code",
   "execution_count": null,
   "metadata": {},
   "outputs": [],
   "source": [
    "df.query('platform == \"DS\"').plot(kind = 'scatter',\n",
    "        x = 'user_score',\n",
    "        y = 'total_sales',\n",
    "        alpha = 0.5,\n",
    "        figsize = (8, 4))\n",
    "plt.title('Взаимосвязь пользовательского рейтинга и продаж на DS')\n",
    "\n",
    "plt.show\n",
    "\n",
    "df.query('platform == \"DS\"').plot(kind = 'scatter',\n",
    "        x = 'critic_score',\n",
    "        y = 'total_sales',\n",
    "        alpha = 0.5,\n",
    "        figsize = (8, 4))\n",
    "plt.title('Взаимосвязь рейтинга критиков и продаж на DS')"
   ]
  },
  {
   "cell_type": "markdown",
   "metadata": {},
   "source": [
    "### 3DS"
   ]
  },
  {
   "cell_type": "code",
   "execution_count": null,
   "metadata": {},
   "outputs": [],
   "source": [
    "df.query('platform == \"3DS\"').plot(kind = 'scatter',\n",
    "        x = 'user_score',\n",
    "        y = 'total_sales',\n",
    "        alpha = 0.5,\n",
    "        figsize = (8, 4))\n",
    "plt.title('Взаимосвязь пользовательского рейтинга и продаж на 3DS')\n",
    "\n",
    "plt.show\n",
    "\n",
    "df.query('platform == \"3DS\"').plot(kind = 'scatter',\n",
    "        x = 'critic_score',\n",
    "        y = 'total_sales',\n",
    "        alpha = 0.5,\n",
    "        figsize = (8, 4))\n",
    "plt.title('Взаимосвязь рейтинга критиков и продаж на 3DS')"
   ]
  },
  {
   "cell_type": "markdown",
   "metadata": {},
   "source": [
    "Зависимость выручки от мнения пользователей/критиков разнится  для каждого производителя приставок, но все же общая тенденция более успешных продаж при более высокой оценке сохраняется.\n",
    "\n",
    "Оценим коэффициенты корреляции для наиболее актуальных платформ: Wii, PS4 и XOne"
   ]
  },
  {
   "cell_type": "code",
   "execution_count": null,
   "metadata": {
    "scrolled": true
   },
   "outputs": [],
   "source": [
    "df.query('platform == \"PS4\"')['user_score'].corr(df['total_sales'])"
   ]
  },
  {
   "cell_type": "code",
   "execution_count": null,
   "metadata": {},
   "outputs": [],
   "source": [
    "df.query('platform == \"PS4\"')['critic_score'].corr(df['total_sales'])"
   ]
  },
  {
   "cell_type": "code",
   "execution_count": null,
   "metadata": {
    "scrolled": true
   },
   "outputs": [],
   "source": [
    "df.query('platform == \"XOne\"')['user_score'].corr(df['total_sales'])"
   ]
  },
  {
   "cell_type": "code",
   "execution_count": null,
   "metadata": {
    "scrolled": false
   },
   "outputs": [],
   "source": [
    "df.query('platform == \"XOne\"')['critic_score'].corr(df['total_sales'])"
   ]
  },
  {
   "cell_type": "code",
   "execution_count": null,
   "metadata": {},
   "outputs": [],
   "source": [
    "df.query('platform == \"Wii\"')['user_score'].corr(df['total_sales'])"
   ]
  },
  {
   "cell_type": "code",
   "execution_count": null,
   "metadata": {},
   "outputs": [],
   "source": [
    "df.query('platform == \"Wii\"')['critic_score'].corr(df['total_sales'])"
   ]
  },
  {
   "cell_type": "markdown",
   "metadata": {},
   "source": [
    "Мы видим аналогичную ситуацию для PS4 и XOne: мнение критиков имеет умеренное влияние на объем продаж, мнение пользователей влияния не имеет.\n",
    "\n",
    "Пользователи Wii в большей степени обращают внимание на отзывы пользователей, однако влияние критиков менее ощутимо, чем у других платформ. "
   ]
  },
  {
   "cell_type": "markdown",
   "metadata": {},
   "source": [
    "### Анализ выручки от продажи игр в разрезе платформ"
   ]
  },
  {
   "cell_type": "code",
   "execution_count": null,
   "metadata": {
    "scrolled": true
   },
   "outputs": [],
   "source": [
    "top_platforms_summury = ( df.groupby('platform')\n",
    "                       .agg({'year_of_release': 'count', 'total_sales':'sum'})\n",
    "                       .rename(columns = {'year_of_release': 'games'})\n",
    "                       .sort_values(by = 'total_sales', ascending = False) )\n",
    "\n",
    "top_platforms_summury['rev_per_game'] = top_platforms_summury['total_sales'] / top_platforms_summury['games']\n",
    "top_platforms_summury\n",
    "top_platforms_summury.plot(kind='bar')"
   ]
  },
  {
   "cell_type": "code",
   "execution_count": null,
   "metadata": {},
   "outputs": [],
   "source": [
    "top_platforms_summury['rev_per_game'].plot(kind='bar')"
   ]
  },
  {
   "cell_type": "markdown",
   "metadata": {},
   "source": [
    "В таблице выше представлены данные о выпущенном количестве игр, суммарной выручке и средней выручке на 1 выпущенную игру.\n",
    "Как видно на графиках, средняя выручка на игру на PS3, X360 и Wii сопоставима. PS4 лидирует и на несколько пунктов обходит Xone, а DS значительно уступает в данном показателе, общий сопоставимый уровень выручки достигнут за счет значительно большего количества выпущенных игр.\n"
   ]
  },
  {
   "cell_type": "code",
   "execution_count": null,
   "metadata": {},
   "outputs": [],
   "source": [
    "( df.boxplot(column=['total_sales'], by=['platform'], showfliers = False) )\n",
    "plt.title(' ')"
   ]
  },
  {
   "cell_type": "markdown",
   "metadata": {},
   "source": [
    "Данный график показывает нам, что наиболее прибыльные отдельные игры были выпущены на консоли Microsoft и Sony. Их более старшие модели уже соответствуют своим предшественникам. Игры на Nintendo в среднем менее прибыльны, но Wii наиболее успешен, судя по текущей визуализации. Медианные значения находятся на сопоставимых уровнях, но их положение относительно средних значений говорит о том, что на каждой из платформ есть игры, которые принесли напорядок больше выручки по сравнению с остальными играми."
   ]
  },
  {
   "cell_type": "markdown",
   "metadata": {},
   "source": [
    "### Анализ выручки от продажи игр в разрезе жанров"
   ]
  },
  {
   "cell_type": "code",
   "execution_count": null,
   "metadata": {},
   "outputs": [],
   "source": [
    "df.query('[\"PS4\", \"PS3\"] in platform ').groupby('genre')['total_sales'].sum().sort_values(ascending = False)"
   ]
  },
  {
   "cell_type": "code",
   "execution_count": null,
   "metadata": {},
   "outputs": [],
   "source": [
    "df.query('[\"X360\", \"XOne\"] in platform ').groupby('genre')['total_sales'].sum().sort_values(ascending = False)"
   ]
  },
  {
   "cell_type": "code",
   "execution_count": null,
   "metadata": {},
   "outputs": [],
   "source": [
    "df.query('[\"3DS\", \"Wii\", \"DS\"] in platform ').groupby('genre')['total_sales'].sum().sort_values(ascending = False)"
   ]
  },
  {
   "cell_type": "markdown",
   "metadata": {},
   "source": [
    "Мы проанализировали доходность жанров для каждого производителя платформ:\n",
    "\n",
    "- для Sony и Microsoft тройка наиболее прибыльных жанров одинакова, это Shooter, Action и Sports.\n",
    "- для Nintendo разрыв в прибыльности не такой наглядный, в топ вошли Misc, Sports и Action, а также RP, Simulation, Platform, Racing и Puzzle (который не приносит прибыли на других платформах), а жанр Shooter значительно менее прибылен.\n",
    "\n",
    "<div style=\"border:solid gold 2px; padding: 20px\"> <h1 style=\"color:gold; margin-bottom:20px\">Комментарий наставника</h1>\n",
    "\n",
    "Жанры отлично проанализированы, но немного не хватает графики."
   ]
  },
  {
   "cell_type": "markdown",
   "metadata": {},
   "source": [
    "## Портрет покупателя для каждого региона продаж"
   ]
  },
  {
   "cell_type": "markdown",
   "metadata": {},
   "source": [
    "Самые популярные платформы (топ-5). Опишите различия в долях продаж.\n",
    "Самые популярные жанры (топ-5). Поясните разницу.\n",
    "Влияет ли рейтинг ESRB на продажи в отдельном регионе?"
   ]
  },
  {
   "cell_type": "code",
   "execution_count": null,
   "metadata": {
    "scrolled": true
   },
   "outputs": [],
   "source": [
    "region_sales_by_platform = ( df.groupby('platform').agg({'na_sales':'sum', 'eu_sales':'sum', 'jp_sales':'sum', 'other_sales':'sum', 'total_sales':'sum', 'revenue_per_year':'sum'})\n",
    " .sort_values(by = 'revenue_per_year', ascending = False).reset_index() )\n",
    "\n",
    "region_sales_by_platform['share_na'] = region_sales_by_platform['na_sales'] / region_sales_by_platform['total_sales']  \n",
    "region_sales_by_platform['share_eu'] = region_sales_by_platform['eu_sales'] / region_sales_by_platform['total_sales']  \n",
    "region_sales_by_platform['share_jp'] = region_sales_by_platform['jp_sales'] / region_sales_by_platform['total_sales'] \n",
    "region_sales_by_platform['share_other'] = region_sales_by_platform['other_sales'] / region_sales_by_platform['total_sales']  \n",
    "region_sales_by_platform"
   ]
  },
  {
   "cell_type": "code",
   "execution_count": null,
   "metadata": {},
   "outputs": [],
   "source": [
    "region_sales_by_platform.groupby('platform')['na_sales'].sum().plot.pie()\n",
    "plt.title('Северная Америка')\n",
    "plt.show()\n",
    "region_sales_by_platform.groupby('platform')['eu_sales'].sum().plot.pie()\n",
    "plt.title('Европа')\n",
    "plt.show()\n",
    "region_sales_by_platform.groupby('platform')['jp_sales'].sum().plot.pie()\n",
    "plt.title('Япония')\n",
    "plt.show()"
   ]
  },
  {
   "cell_type": "markdown",
   "metadata": {},
   "source": [
    "По сводной таблице и графикам можно сделать следующие выводы:\n",
    "\n",
    "- na и eu рынки очень схожи, они дают Sony 70% выручки, jp всего 5%\n",
    "- консоли Microsoft наиболее популярны в na, что можно попробовать объяснить поддержкой своего производителя:), и что интересно, X360 пользовался в jp большей популярностью, чем PS3/4 однако в структуре выручки XOne jp составляет всего     \n",
    "- консоли 3DS и DS имею более широкое распространение и наибольшие доли присутствия в jp по сравнению с прочими\n",
    "\n",
    "В целом данная визуализация дает четкое представление о наиболее прибыльных платформах и их распределении по регионам."
   ]
  },
  {
   "cell_type": "code",
   "execution_count": null,
   "metadata": {
    "scrolled": true
   },
   "outputs": [],
   "source": [
    "region_sales_by_genre = ( df.groupby('genre').agg({'na_sales':'sum', 'eu_sales':'sum', 'jp_sales':'sum', 'other_sales':'sum', 'total_sales':'sum', 'revenue_per_year':'sum'})\n",
    " .sort_values(by = 'revenue_per_year', ascending = False).reset_index() )\n",
    "\n",
    "region_sales_by_genre['share_na'] = region_sales_by_genre['na_sales'] / region_sales_by_genre['total_sales']  \n",
    "region_sales_by_genre['share_eu'] = region_sales_by_genre['eu_sales'] / region_sales_by_genre['total_sales']  \n",
    "region_sales_by_genre['share_jp'] = region_sales_by_genre['jp_sales'] / region_sales_by_genre['total_sales'] \n",
    "region_sales_by_genre['share_other'] = region_sales_by_genre['other_sales'] / region_sales_by_genre['total_sales']  \n",
    "region_sales_by_genre"
   ]
  },
  {
   "cell_type": "code",
   "execution_count": null,
   "metadata": {},
   "outputs": [],
   "source": [
    "region_sales_by_genre.groupby('genre')['na_sales'].sum().plot.pie()\n",
    "plt.title('Северная Америка')\n",
    "plt.show()\n",
    "region_sales_by_genre.groupby('genre')['eu_sales'].sum().plot.pie()\n",
    "plt.title('Европа')\n",
    "plt.show()\n",
    "region_sales_by_genre.groupby('genre')['jp_sales'].sum().plot.pie()\n",
    "plt.title('Япония')\n",
    "plt.show()"
   ]
  },
  {
   "cell_type": "markdown",
   "metadata": {},
   "source": [
    "Наиболее прибыльные жанры: Action, Shooter, Sports, RP и Misc. В разрезе жанров na и eu вновь показывают схожие результаты, а вот jp наиболее популярны RP игры, Strategy и Puzzle, что можно объяснить предрасположенностью к игре на Nintendo, где игры этих жанров представлены больше всего."
   ]
  },
  {
   "cell_type": "code",
   "execution_count": null,
   "metadata": {},
   "outputs": [],
   "source": [
    "rating_sales = ( df.groupby('rating').agg({'na_sales':'sum', 'eu_sales':'sum', 'jp_sales':'sum', 'total_sales':'sum'})\n",
    ".sort_values(by = 'total_sales', ascending = False) )\n",
    "rating_sales"
   ]
  },
  {
   "cell_type": "code",
   "execution_count": null,
   "metadata": {},
   "outputs": [],
   "source": [
    "rating_sales.plot(kind = 'bar', figsize = (8, 6), grid = True)"
   ]
  },
  {
   "cell_type": "markdown",
   "metadata": {},
   "source": [
    "В рассматриваемом периоде резонно анализировать следующие типы рейтингов: M (17лет+), E (0+), T (13+) и E10+ (10+). Как мы видим из графика, наиболее прибыльным являются игры, подходящие люям любого возраста, это можно обосновать тем, что потенциально данные игры разрабатываются для наиболее широкого круга людей, чаще всего ориентированы на детей или развлечения в компании. На втором месте идут игры с наиболее жестким рейтингом, как правило это трипл A проекты, у которых сформирована своя фан база, у них наивысшие бюджеты на разработку и соответствующий уровень качества. В целом влияние данных рейтингов весьма косвенно и условно, т.к. рейтинг в конечном счете является лишь рекомендацией, и не ограничивает к покупке, соответственно оценки игр и предрасположенность покупателя к самой игре/платформе."
   ]
  },
  {
   "cell_type": "markdown",
   "metadata": {},
   "source": [
    "##### Портрет NA пользователя \n",
    "Из актуальных платформ предпочитает играть на PS и XBox. Активнее покупателей из других регионов. Больше всего любит Shooter, Action, Sport, Misc и RP. \n",
    "##### Портрет EU пользователя \n",
    "Из актуальных платформ предпочитает играть на PS. Любимые жанры аналогичны NA. \n",
    "##### Портрет JP пользователя \n",
    "Предпочитает разнообразные игры на Nintendo, главным образом RP и Action. Если все же отдает предпочтение другой консоли, то это PS."
   ]
  },
  {
   "cell_type": "markdown",
   "metadata": {},
   "source": [
    "# Проверка гипотез"
   ]
  },
  {
   "cell_type": "markdown",
   "metadata": {},
   "source": [
    "##### Средние пользовательские рейтинги платформ Xbox One и PC одинаковые."
   ]
  },
  {
   "cell_type": "markdown",
   "metadata": {},
   "source": [
    "Период для сравнения рейтингов выберем 2014 - тек. год, (с момента выхода XOne)"
   ]
  },
  {
   "cell_type": "code",
   "execution_count": null,
   "metadata": {},
   "outputs": [],
   "source": [
    "data.query('platform == \"XOne\" and year_of_release')['user_score'].agg({'count', 'mean'})"
   ]
  },
  {
   "cell_type": "code",
   "execution_count": null,
   "metadata": {},
   "outputs": [],
   "source": [
    "data.query('platform == \"PC\" and year_of_release > 2013')['user_score'].agg({'count', 'mean'})"
   ]
  },
  {
   "cell_type": "markdown",
   "metadata": {},
   "source": [
    "При сравнении за сопоставимый период средняя оценка пользователей выше у XOne.\n",
    "- Н0: cредние пользовательские рейтинги платформ Xbox One и PC одинаковые. \n",
    "- Н1: cредние пользовательские рейтинги платформ Xbox One и PC не равны."
   ]
  },
  {
   "cell_type": "code",
   "execution_count": null,
   "metadata": {},
   "outputs": [],
   "source": [
    "alpha = .1\n",
    "results1 = ( st.ttest_ind(data.query('platform == \"PC\" and year_of_release > 2013')['user_score'].dropna(), \n",
    "             data.query('platform == \"XOne\"')['user_score'].dropna(), equal_var = False) )\n",
    "\n",
    "if (results1.pvalue < alpha):\n",
    "    print(\"Отвергаем нулевую гипотезу\")\n",
    "else:\n",
    "    print(\"Не получилось отвергнуть нулевую гипотезу\")\n",
    "results1.pvalue"
   ]
  },
  {
   "cell_type": "markdown",
   "metadata": {},
   "source": [
    "Вывод: По итогам проверки мы можем сделать вывод о том, что средний пользовательский рейтинг игр на XOne и PC с высокой вероятностью не отличается"
   ]
  },
  {
   "cell_type": "markdown",
   "metadata": {},
   "source": [
    "#### Средние пользовательские рейтинги жанров Action и Sports разные."
   ]
  },
  {
   "cell_type": "code",
   "execution_count": null,
   "metadata": {},
   "outputs": [],
   "source": [
    "data.query('genre == \"Action\"')['user_score'].agg({'count', 'mean'})"
   ]
  },
  {
   "cell_type": "code",
   "execution_count": null,
   "metadata": {},
   "outputs": [],
   "source": [
    "data.query('genre == \"Sports\"')['user_score'].agg({'count', 'mean'})"
   ]
  },
  {
   "cell_type": "markdown",
   "metadata": {},
   "source": [
    "При сравнении за сопоставимый период средняя оценка пользователей выше у Action.\n",
    "- H0: cредние пользовательские рейтинги Action и Sport игр одинаковые.\n",
    "- H1: cредние пользовательские рейтинги Action и Sport игр не равны."
   ]
  },
  {
   "cell_type": "code",
   "execution_count": null,
   "metadata": {},
   "outputs": [],
   "source": [
    "results2 = (st.ttest_ind(df.query('genre == \"Sports\"')['user_score'].dropna(), \n",
    "             df.query('genre == \"Action\"')['user_score'].dropna(), equal_var = False))\n",
    "\n",
    "if (results2.pvalue < alpha):\n",
    "    print(\"Отвергаем нулевую гипотезу\")\n",
    "else:\n",
    "    print(\"Не получилось отвергнуть нулевую гипотезу\")\n",
    "results2.pvalue"
   ]
  },
  {
   "cell_type": "markdown",
   "metadata": {},
   "source": [
    "Вывод: По итогам проверки мы можем сделать вывод о том, что средний пользовательский рейтинг Sport игр  с высокой вероятностью  ниже, чем Action игр."
   ]
  },
  {
   "cell_type": "markdown",
   "metadata": {},
   "source": [
    "# Общий вывод"
   ]
  },
  {
   "cell_type": "markdown",
   "metadata": {},
   "source": [
    "- Наиболее ценный период для анализа данных - период с 2006 года, т.к. начиная с этого периода индустрия пережила пик своего развития, а также были сформированы основные предпочтения покупателей в отношении производителей платформ. \n",
    "- Наиболее востребованные жанры: Action, Shooter, Sport и RP.\n",
    "- Предпочтения покупателей, как жанровые, так и при выборе платформы отличаются в большей степени отличия видны между JP и прочими регионами.\n",
    "- Возрастной рейтинг ESRB и рейтинг пользователей не является определяющим продажи фактором. А вот рейтинг критиков важен для продаж во всех регионах.\n",
    "- Была осуществлена проверка гипотез, описанных в задании, в результате чего можно сделать вывод о том, что рейтинг PC и XOne игр с высокой вероятностью не отличается, а вот рейтинг Sport игр ниже, чем Action"
   ]
  },
  {
   "cell_type": "code",
   "execution_count": null,
   "metadata": {},
   "outputs": [],
   "source": []
  },
  {
   "cell_type": "code",
   "execution_count": null,
   "metadata": {},
   "outputs": [],
   "source": []
  }
 ],
 "metadata": {
  "kernelspec": {
   "display_name": "Python 3",
   "language": "python",
   "name": "python3"
  },
  "language_info": {
   "codemirror_mode": {
    "name": "ipython",
    "version": 3
   },
   "file_extension": ".py",
   "mimetype": "text/x-python",
   "name": "python",
   "nbconvert_exporter": "python",
   "pygments_lexer": "ipython3",
   "version": "3.7.6"
  }
 },
 "nbformat": 4,
 "nbformat_minor": 2
}
